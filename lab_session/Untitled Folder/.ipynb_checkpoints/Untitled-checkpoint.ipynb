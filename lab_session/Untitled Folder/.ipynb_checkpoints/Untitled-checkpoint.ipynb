{
 "cells": [
  {
   "cell_type": "code",
   "execution_count": 19,
   "metadata": {},
   "outputs": [],
   "source": [
    "def CarelessStringMatcher (Text , Pattern ):\n",
    "    n = len(Text)\n",
    "    m = len(Pattern)\n",
    "    q = s = 0\n",
    "    while s < n:\n",
    "        if Text[s] == Pattern [q]:\n",
    "            print(q, s)\n",
    "            q += 1 # increase match length\n",
    "            if q == m: # matched `m' characters\n",
    "                print (s - m + 1)\n",
    "                q = 0 # reset match length\n",
    "        else:\n",
    "            q = 0 # found a mismatch\n",
    "            s += 1 #move further in the text"
   ]
  },
  {
   "cell_type": "code",
   "execution_count": 20,
   "metadata": {},
   "outputs": [
    {
     "name": "stdout",
     "output_type": "stream",
     "text": [
      "(0, 0)\n",
      "(0, 4)\n",
      "(0, 7)\n",
      "(0, 9)\n",
      "(0, 13)\n",
      "(0, 14)\n"
     ]
    }
   ],
   "source": [
    "Text = 'ATCGATCAGATCGAA'\n",
    "Pattern = 'ATC'\n",
    "\n",
    "CarelessStringMatcher(Text, Pattern)"
   ]
  }
 ],
 "metadata": {
  "kernelspec": {
   "display_name": "Python 3",
   "language": "python",
   "name": "python3"
  },
  "language_info": {
   "codemirror_mode": {
    "name": "ipython",
    "version": 2
   },
   "file_extension": ".py",
   "mimetype": "text/x-python",
   "name": "python",
   "nbconvert_exporter": "python",
   "pygments_lexer": "ipython2",
   "version": "2.7.15+"
  }
 },
 "nbformat": 4,
 "nbformat_minor": 2
}
