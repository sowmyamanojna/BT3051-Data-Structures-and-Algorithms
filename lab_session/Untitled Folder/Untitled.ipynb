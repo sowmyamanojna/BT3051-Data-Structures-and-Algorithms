{
 "cells": [
  {
   "cell_type": "code",
   "execution_count": 21,
   "metadata": {},
   "outputs": [],
   "source": [
    "def CarelessStringMatcher (Text , Pattern ):\n",
    "    n = len(Text)\n",
    "    m = len(Pattern)\n",
    "    q = s = 0\n",
    "    while s < n:\n",
    "        if Text[s] == Pattern [q]:\n",
    "            print(q, s)\n",
    "            q += 1 # increase match length\n",
    "            if q == m: # matched `m' characters\n",
    "                print (s - m + 1)\n",
    "                q = 0 # reset match length\n",
    "        else:\n",
    "            q = 0 # found a mismatch\n",
    "            s += 1 #move further in the text"
   ]
  },
  {
   "cell_type": "code",
   "execution_count": 22,
   "metadata": {},
   "outputs": [
    {
     "name": "stdout",
     "output_type": "stream",
     "text": [
      "(0, 0)\n",
      "(0, 4)\n",
      "(0, 7)\n",
      "(0, 9)\n",
      "(0, 13)\n",
      "(0, 14)\n"
     ]
    }
   ],
   "source": [
    "Text = 'ATCGATCAGATCGAA'\n",
    "Pattern = 'ATC'\n",
    "\n",
    "CarelessStringMatcher(Text, Pattern)"
   ]
  },
  {
   "cell_type": "code",
   "execution_count": 23,
   "metadata": {},
   "outputs": [],
   "source": [
    "class ComplexNumber:\n",
    "    def __init__ (self,r,i):\n",
    "        self._real = r\n",
    "        self._imag = i\n",
    "        print(__name__)"
   ]
  },
  {
   "cell_type": "code",
   "execution_count": 24,
   "metadata": {},
   "outputs": [
    {
     "ename": "ImportError",
     "evalue": "No module named ComplexNumberFile",
     "output_type": "error",
     "traceback": [
      "\u001b[0;31m---------------------------------------------------------------------------\u001b[0m",
      "\u001b[0;31mImportError\u001b[0m                               Traceback (most recent call last)",
      "\u001b[0;32m<ipython-input-24-858ce841cf6a>\u001b[0m in \u001b[0;36m<module>\u001b[0;34m()\u001b[0m\n\u001b[0;32m----> 1\u001b[0;31m \u001b[0;32mfrom\u001b[0m \u001b[0mComplexNumberFile\u001b[0m \u001b[0;32mimport\u001b[0m \u001b[0mComplexNumber\u001b[0m\u001b[0;34m\u001b[0m\u001b[0;34m\u001b[0m\u001b[0m\n\u001b[0m\u001b[1;32m      2\u001b[0m \u001b[0;32mprint\u001b[0m\u001b[0;34m(\u001b[0m\u001b[0m__name__\u001b[0m\u001b[0;34m)\u001b[0m\u001b[0;34m\u001b[0m\u001b[0;34m\u001b[0m\u001b[0m\n\u001b[1;32m      3\u001b[0m \u001b[0mz1\u001b[0m \u001b[0;34m=\u001b[0m \u001b[0mComplexNumber\u001b[0m\u001b[0;34m(\u001b[0m\u001b[0;36m1\u001b[0m\u001b[0;34m,\u001b[0m \u001b[0;36m2\u001b[0m\u001b[0;34m)\u001b[0m\u001b[0;34m\u001b[0m\u001b[0;34m\u001b[0m\u001b[0m\n",
      "\u001b[0;31mImportError\u001b[0m: No module named ComplexNumberFile"
     ]
    }
   ],
   "source": [
    "from ComplexNumberFile import ComplexNumber\n",
    "print(__name__)\n",
    "z1 = ComplexNumber(1, 2)"
   ]
  }
 ],
 "metadata": {
  "kernelspec": {
   "display_name": "Python 3",
   "language": "python",
   "name": "python3"
  },
  "language_info": {
   "codemirror_mode": {
    "name": "ipython",
    "version": 2
   },
   "file_extension": ".py",
   "mimetype": "text/x-python",
   "name": "python",
   "nbconvert_exporter": "python",
   "pygments_lexer": "ipython2",
   "version": "2.7.15+"
  }
 },
 "nbformat": 4,
 "nbformat_minor": 2
}
