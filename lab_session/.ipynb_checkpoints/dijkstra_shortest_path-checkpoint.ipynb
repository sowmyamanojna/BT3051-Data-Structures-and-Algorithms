{
 "cells": [
  {
   "cell_type": "code",
   "execution_count": 26,
   "metadata": {},
   "outputs": [],
   "source": [
    "import numpy as np\n",
    "import networkx as nx\n",
    "import matplotlib.pyplot as plt"
   ]
  },
  {
   "cell_type": "code",
   "execution_count": 28,
   "metadata": {},
   "outputs": [
    {
     "data": {
      "image/png": "[encoded data removed]",
      "text/plain": [
       "<Figure size 432x288 with 1 Axes>"
      ]
     },
     "metadata": {},
     "output_type": "display_data"
    }
   ],
   "source": [
    "G = nx.Graph()\n",
    "for i in ['A','B','C','D','E','F', 'G']:\n",
    "    G.add_node(i)\n",
    "\n",
    "G.add_edge('A','B',weight = 3)\n",
    "G.add_edge('A','C',weight = 5)\n",
    "G.add_edge('A','D',weight = 20)\n",
    "G.add_edge('B','C',weight = 1)\n",
    "G.add_edge('B','D',weight = 14)\n",
    "G.add_edge('B','E',weight = 13)\n",
    "G.add_edge('C','D',weight = 11)\n",
    "G.add_edge('D','E',weight = 9)\n",
    "G.add_edge('D','F',weight = 7)\n",
    "G.add_edge('D','G',weight = 11)\n",
    "G.add_edge('F','G',weight = 12)\n",
    "\n",
    "nx.draw(G, with_labels=True)\n",
    "plt.show()"
   ]
  },
  {
   "cell_type": "code",
   "execution_count": 34,
   "metadata": {},
   "outputs": [
    {
     "data": {
      "text/plain": [
       "3"
      ]
     },
     "execution_count": 34,
     "metadata": {},
     "output_type": "execute_result"
    }
   ],
   "source": [
    "G.get_edge_data('A', 'B')['weight']"
   ]
  },
  {
   "cell_type": "code",
   "execution_count": 82,
   "metadata": {},
   "outputs": [
    {
     "name": "stdout",
     "output_type": "stream",
     "text": [
      "[5, 7]\n",
      "[7]\n"
     ]
    }
   ],
   "source": [
    "a = [5, 7]\n",
    "print(a)\n",
    "\n",
    "a.pop(0)\n",
    "print(a)"
   ]
  },
  {
   "cell_type": "code",
   "execution_count": 81,
   "metadata": {},
   "outputs": [
    {
     "name": "stdout",
     "output_type": "stream",
     "text": [
      "Help on method_descriptor:\n",
      "\n",
      "pop(...)\n",
      "    L.pop([index]) -> item -- remove and return item at index (default last).\n",
      "    Raises IndexError if list is empty or index is out of range.\n",
      "\n"
     ]
    }
   ],
   "source": [
    "help(list.pop)"
   ]
  },
  {
   "cell_type": "code",
   "execution_count": 51,
   "metadata": {},
   "outputs": [
    {
     "name": "stdout",
     "output_type": "stream",
     "text": [
      "1\n"
     ]
    },
    {
     "data": {
      "text/plain": [
       "([5, 10, 20], ['A', 'B', 'C'])"
      ]
     },
     "execution_count": 51,
     "metadata": {},
     "output_type": "execute_result"
    }
   ],
   "source": [
    "dicts = {'A': 10, \n",
    "         'B': 20, \n",
    "         'C': 5}\n",
    "\n",
    "lst = [1, 10, 5]\n",
    "print(lst.index(10))\n",
    "\n",
    "sorted(dicts.values()), sorted(dicts.keys())"
   ]
  },
  {
   "cell_type": "code",
   "execution_count": 49,
   "metadata": {},
   "outputs": [
    {
     "name": "stdout",
     "output_type": "stream",
     "text": [
      "Help on class dict in module __builtin__:\n",
      "\n",
      "class dict(object)\n",
      " |  dict() -> new empty dictionary\n",
      " |  dict(mapping) -> new dictionary initialized from a mapping object's\n",
      " |      (key, value) pairs\n",
      " |  dict(iterable) -> new dictionary initialized as if via:\n",
      " |      d = {}\n",
      " |      for k, v in iterable:\n",
      " |          d[k] = v\n",
      " |  dict(**kwargs) -> new dictionary initialized with the name=value pairs\n",
      " |      in the keyword argument list.  For example:  dict(one=1, two=2)\n",
      " |  \n",
      " |  Methods defined here:\n",
      " |  \n",
      " |  __cmp__(...)\n",
      " |      x.__cmp__(y) <==> cmp(x,y)\n",
      " |  \n",
      " |  __contains__(...)\n",
      " |      D.__contains__(k) -> True if D has a key k, else False\n",
      " |  \n",
      " |  __delitem__(...)\n",
      " |      x.__delitem__(y) <==> del x[y]\n",
      " |  \n",
      " |  __eq__(...)\n",
      " |      x.__eq__(y) <==> x==y\n",
      " |  \n",
      " |  __ge__(...)\n",
      " |      x.__ge__(y) <==> x>=y\n",
      " |  \n",
      " |  __getattribute__(...)\n",
      " |      x.__getattribute__('name') <==> x.name\n",
      " |  \n",
      " |  __getitem__(...)\n",
      " |      x.__getitem__(y) <==> x[y]\n",
      " |  \n",
      " |  __gt__(...)\n",
      " |      x.__gt__(y) <==> x>y\n",
      " |  \n",
      " |  __init__(...)\n",
      " |      x.__init__(...) initializes x; see help(type(x)) for signature\n",
      " |  \n",
      " |  __iter__(...)\n",
      " |      x.__iter__() <==> iter(x)\n",
      " |  \n",
      " |  __le__(...)\n",
      " |      x.__le__(y) <==> x<=y\n",
      " |  \n",
      " |  __len__(...)\n",
      " |      x.__len__() <==> len(x)\n",
      " |  \n",
      " |  __lt__(...)\n",
      " |      x.__lt__(y) <==> x<y\n",
      " |  \n",
      " |  __ne__(...)\n",
      " |      x.__ne__(y) <==> x!=y\n",
      " |  \n",
      " |  __repr__(...)\n",
      " |      x.__repr__() <==> repr(x)\n",
      " |  \n",
      " |  __setitem__(...)\n",
      " |      x.__setitem__(i, y) <==> x[i]=y\n",
      " |  \n",
      " |  __sizeof__(...)\n",
      " |      D.__sizeof__() -> size of D in memory, in bytes\n",
      " |  \n",
      " |  clear(...)\n",
      " |      D.clear() -> None.  Remove all items from D.\n",
      " |  \n",
      " |  copy(...)\n",
      " |      D.copy() -> a shallow copy of D\n",
      " |  \n",
      " |  fromkeys(...)\n",
      " |      dict.fromkeys(S[,v]) -> New dict with keys from S and values equal to v.\n",
      " |      v defaults to None.\n",
      " |  \n",
      " |  get(...)\n",
      " |      D.get(k[,d]) -> D[k] if k in D, else d.  d defaults to None.\n",
      " |  \n",
      " |  has_key(...)\n",
      " |      D.has_key(k) -> True if D has a key k, else False\n",
      " |  \n",
      " |  items(...)\n",
      " |      D.items() -> list of D's (key, value) pairs, as 2-tuples\n",
      " |  \n",
      " |  iteritems(...)\n",
      " |      D.iteritems() -> an iterator over the (key, value) items of D\n",
      " |  \n",
      " |  iterkeys(...)\n",
      " |      D.iterkeys() -> an iterator over the keys of D\n",
      " |  \n",
      " |  itervalues(...)\n",
      " |      D.itervalues() -> an iterator over the values of D\n",
      " |  \n",
      " |  keys(...)\n",
      " |      D.keys() -> list of D's keys\n",
      " |  \n",
      " |  pop(...)\n",
      " |      D.pop(k[,d]) -> v, remove specified key and return the corresponding value.\n",
      " |      If key is not found, d is returned if given, otherwise KeyError is raised\n",
      " |  \n",
      " |  popitem(...)\n",
      " |      D.popitem() -> (k, v), remove and return some (key, value) pair as a\n",
      " |      2-tuple; but raise KeyError if D is empty.\n",
      " |  \n",
      " |  setdefault(...)\n",
      " |      D.setdefault(k[,d]) -> D.get(k,d), also set D[k]=d if k not in D\n",
      " |  \n",
      " |  update(...)\n",
      " |      D.update([E, ]**F) -> None.  Update D from dict/iterable E and F.\n",
      " |      If E present and has a .keys() method, does:     for k in E: D[k] = E[k]\n",
      " |      If E present and lacks .keys() method, does:     for (k, v) in E: D[k] = v\n",
      " |      In either case, this is followed by: for k in F: D[k] = F[k]\n",
      " |  \n",
      " |  values(...)\n",
      " |      D.values() -> list of D's values\n",
      " |  \n",
      " |  viewitems(...)\n",
      " |      D.viewitems() -> a set-like object providing a view on D's items\n",
      " |  \n",
      " |  viewkeys(...)\n",
      " |      D.viewkeys() -> a set-like object providing a view on D's keys\n",
      " |  \n",
      " |  viewvalues(...)\n",
      " |      D.viewvalues() -> an object providing a view on D's values\n",
      " |  \n",
      " |  ----------------------------------------------------------------------\n",
      " |  Data and other attributes defined here:\n",
      " |  \n",
      " |  __hash__ = None\n",
      " |  \n",
      " |  __new__ = <built-in method __new__ of type object>\n",
      " |      T.__new__(S, ...) -> a new object with type S, a subtype of T\n",
      "\n"
     ]
    }
   ],
   "source": [
    "help(dict)"
   ]
  },
  {
   "cell_type": "code",
   "execution_count": 84,
   "metadata": {},
   "outputs": [
    {
     "name": "stdout",
     "output_type": "stream",
     "text": [
      "('cloud', ['A'])\n",
      "('A', ':', 0)\n",
      "['C', 'B', 'D']\n",
      "['C', 'B', 'D']\n",
      "('cloud', ['B', 'C', 'D'])\n",
      "('C', ':', 5)\n",
      "['A', 'B', 'D']\n",
      "['B', 'D']\n",
      "('cloud', ['C', 'D', 'B', 'D'])\n",
      "('B', ':', 3)\n",
      "['A', 'C', 'E', 'D']\n",
      "['C', 'E', 'D']\n",
      "('cloud', ['D', 'B', 'D', 'C', 'E', 'D'])\n",
      "('C', ':', 4)\n",
      "['A', 'B', 'D']\n",
      "['D']\n",
      "('cloud', ['B', 'D', 'C', 'E', 'D', 'D'])\n",
      "('D', ':', 15)\n",
      "['A', 'C', 'B', 'E', 'G', 'F']\n",
      "['E', 'G', 'F']\n",
      "('cloud', ['D', 'C', 'E', 'D', 'D', 'E', 'F', 'G'])\n",
      "('E', ':', 16)\n",
      "['B', 'D']\n",
      "[]\n",
      "('cloud', ['C', 'E', 'D', 'D', 'E', 'F', 'G'])\n",
      "('G', ':', 26)\n",
      "['D', 'F']\n",
      "['F']\n"
     ]
    },
    {
     "data": {
      "text/plain": [
       "([0, 4, 3, 16, 15, 26, 22], ['A', 'C', 'B', 'E', 'D', 'G', 'F'])"
      ]
     },
     "execution_count": 84,
     "metadata": {},
     "output_type": "execute_result"
    }
   ],
   "source": [
    "def dijkstra(s, G):\n",
    "    nodes = list(G.nodes())\n",
    "    n = len(nodes)\n",
    "    dist = []\n",
    "    for i in nodes:\n",
    "        dist.append(np.inf)\n",
    "    \n",
    "    x = nodes.index(s)\n",
    "    dist[x] = 0\n",
    "    \n",
    "    visited = []\n",
    "    cloud = [s]   \n",
    "    \n",
    "    for i in cloud:\n",
    "        print (\"cloud\", cloud)\n",
    "        idx = nodes.index(i)\n",
    "        neig = list(G.neighbors(i))\n",
    "        \n",
    "        print (i, \":\", dist[idx])\n",
    "        \n",
    "        new_dist = []\n",
    "        neig_new = []\n",
    "        print (neig)\n",
    "        for j in neig:\n",
    "            idx_new = nodes.index(j)\n",
    "            d = int(G.get_edge_data(i,j)['weight'])\n",
    "            if d + dist[idx] < dist[idx_new]:\n",
    "                dist[idx_new] = d + dist[idx]\n",
    "            if j not in visited:\n",
    "                new_dist.append(dist[idx_new])\n",
    "                neig_new.append(j)\n",
    "        \n",
    "        print (neig_new)\n",
    "        \n",
    "        while neig_new:\n",
    "            min_idx = new_dist.index(min(new_dist))\n",
    "            cloud.append(neig_new[min_idx])\n",
    "            neig_new.remove(neig_new[min_idx])\n",
    "            new_dist.remove(new_dist[min_idx])\n",
    "        \n",
    "        visited.append(cloud.pop(0))\n",
    "    \n",
    "    return dist, nodes\n",
    "    \n",
    "dijkstra('A', G)"
   ]
  },
  {
   "cell_type": "code",
   "execution_count": null,
   "metadata": {},
   "outputs": [],
   "source": []
  }
 ],
 "metadata": {
  "kernelspec": {
   "display_name": "Python 3",
   "language": "python",
   "name": "python3"
  },
  "language_info": {
   "codemirror_mode": {
    "name": "ipython",
    "version": 2
   },
   "file_extension": ".py",
   "mimetype": "text/x-python",
   "name": "python",
   "nbconvert_exporter": "python",
   "pygments_lexer": "ipython2",
   "version": "2.7.15+"
  }
 },
 "nbformat": 4,
 "nbformat_minor": 2
}
