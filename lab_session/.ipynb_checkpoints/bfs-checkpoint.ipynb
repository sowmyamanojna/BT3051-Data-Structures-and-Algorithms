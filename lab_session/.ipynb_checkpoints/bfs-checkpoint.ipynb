{
 "cells": [
  {
   "cell_type": "code",
   "execution_count": 12,
   "metadata": {},
   "outputs": [
    {
     "data": {
      "image/png": "[encoded data removed]",
      "text/plain": [
       "<matplotlib.figure.Figure at 0x7f99efb8c588>"
      ]
     },
     "metadata": {},
     "output_type": "display_data"
    }
   ],
   "source": [
    "import networkx as nx\n",
    "import matplotlib.pyplot as plt\n",
    "\n",
    "G = nx.Graph()\n",
    "# for i in range(5):\n",
    "#     G.add_node(i)\n",
    "\n",
    "# for i in range(5):\n",
    "#     G.add_edge(i, (i+1)%5)\n",
    "    \n",
    "# for i in range(5, 8):\n",
    "#     G.add_node(i)\n",
    "    \n",
    "# G.add_edge(5,6)\n",
    "# G.add_edge(6,7)\n",
    "# G.add_edge(5,4)\n",
    "# G.add_edge(2,4)\n",
    "\n",
    "# G.remove_edge(0,4)\n",
    "\n",
    "for i in ['a','b','c','d','e','f','g']:\n",
    "    G.add_node(i)\n",
    "\n",
    "G.add_edges_from([('a','b'), ('a','c'), ('a','d'), ('c','d'), ('b','e'), ('e','f'), ('f','g'), ('c','f'), ('d','g')])\n",
    "\n",
    "nx.draw(G, with_labels=True)\n",
    "plt.show()"
   ]
  },
  {
   "cell_type": "code",
   "execution_count": 5,
   "metadata": {},
   "outputs": [
    {
     "name": "stdout",
     "output_type": "stream",
     "text": [
      "[1]\n",
      "[0, 2]\n",
      "[1, 3, 4]\n",
      "[2, 4]\n",
      "[3, 5, 2]\n",
      "[6, 4]\n",
      "[5, 7]\n",
      "[6]\n"
     ]
    }
   ],
   "source": [
    "for i in range(8):\n",
    "    print (list(G.neighbors(i)))"
   ]
  },
  {
   "cell_type": "code",
   "execution_count": 13,
   "metadata": {},
   "outputs": [
    {
     "name": "stdout",
     "output_type": "stream",
     "text": [
      "todolist ['b', 'c', 'd']\n",
      "visited ['a']\n",
      "todolist ['c', 'd', 'e']\n",
      "visited ['a', 'b']\n",
      "todolist ['d', 'e', 'f']\n",
      "visited ['a', 'b', 'c']\n",
      "todolist ['e', 'f', 'g']\n",
      "visited ['a', 'b', 'c', 'd']\n",
      "todolist ['f', 'g']\n",
      "visited ['a', 'b', 'c', 'd', 'e']\n",
      "todolist ['g']\n",
      "visited ['a', 'b', 'c', 'd', 'e', 'f']\n",
      "todolist []\n",
      "visited ['a', 'b', 'c', 'd', 'e', 'f', 'g']\n"
     ]
    }
   ],
   "source": [
    "todolist = ['a']\n",
    "visited = []\n",
    "\n",
    "while todolist:\n",
    "    i = todolist[0]\n",
    "    for j in list(G.neighbors(i)):\n",
    "        if (j not in todolist) and (j not in visited): todolist.append(j)\n",
    "    todolist.remove(i)\n",
    "    visited.append(i)\n",
    "    \n",
    "    print('todolist', todolist)\n",
    "    print('visited', visited)"
   ]
  },
  {
   "cell_type": "code",
   "execution_count": 127,
   "metadata": {},
   "outputs": [
    {
     "name": "stdout",
     "output_type": "stream",
     "text": [
      "[(0, 0), (1, 0), (1, 1), (2, 1), (3, 1), (3, 2), (3, 3), (4, 3), (4, 4), (4, 5), (5, 5), (6, 5)]\n",
      "\n",
      "\n",
      "[[(0, 0), (1, 0), (1, 1), (2, 1), (3, 1), (3, 2), (3, 3), (4, 3), (4, 4), (4, 5), (5, 5), (6, 5), (3, 5), (2, 5), (2, 4), (2, 3)], [(0, 2), (0, 3)], [(0, 5)], [(4, 0), (5, 0), (5, 1)], [(6, 2), (6, 3)]]\n",
      "None\n"
     ]
    }
   ],
   "source": [
    "#Header Information\n",
    "\n",
    "def maze(MazeMatrix,start,finish):\n",
    "    #MazeMatrix is a binary matrix (2D list of lists)\n",
    "    #start & finish are tuples containing the starting and finishing point indices e.g. (1,1) & (5,5)\n",
    "    \n",
    "    #import statements, function body\n",
    "    import networkx as nx\n",
    "    import matplotlib.pyplot as plt\n",
    "    \n",
    "    def MazeMatrix2Graph(MazeMatrix):\n",
    "        #MazeMatrix is a binary matrix (2D list of lists)\n",
    "        #function body\n",
    "        nodes = {}\n",
    "        vertices = []\n",
    "        MazeGraph = nx.Graph()\n",
    "        \n",
    "        rows = len(MazeMatrix)\n",
    "        if rows != 0: cols = len(MazeMatrix[0])\n",
    "        \n",
    "        for i in range(rows):\n",
    "            for j in range(cols):\n",
    "                if MazeMatrix[i][j] == 1:\n",
    "                    MazeGraph.add_node((i,j))\n",
    "                    \n",
    "                    if (i+1 < rows) and MazeMatrix[i+1][j]==1:\n",
    "                            MazeGraph.add_edge((i,j),(i+1,j))\n",
    "                    if (j+1 < cols) and MazeMatrix[i][j+1]==1:\n",
    "                            MazeGraph.add_edge((i,j),(i,j+1))\n",
    "                    if (i-1 >= 0) and MazeMatrix[i-1][j]==1:\n",
    "                        MazeGraph.add_edge((i,j),(i-1,j))\n",
    "                    if (j-1 >= 0) and MazeMatrix[i][j-1]==1:\n",
    "                            MazeGraph.add_edge((i,j),(i,j-1))\n",
    "        \n",
    "#         nx.draw(MazeGraph, with_labels=True)\n",
    "        return MazeGraph #a networkx graph whose nodes represent the '1's in the input matrix. node labels are tuples.\n",
    "    \n",
    "    def MazeAnswerBFS(MazeGraph,start,finish):\n",
    "        #MazeGraph is a networkx graph \n",
    "        #start and finish are tuples containing the starting and finishing point indices\n",
    "\n",
    "        #function body \n",
    "        components = MazeComponentsDFS(MazeGraph)\n",
    "\n",
    "        tree = None\n",
    "\n",
    "        for i in components:\n",
    "            if start and finish in i: tree = i\n",
    "\n",
    "        if tree == None:\n",
    "            return []\n",
    "\n",
    "        path = {}\n",
    "        for i in tree:\n",
    "            path[i] = []\n",
    "\n",
    "        todolist = [start]\n",
    "        visited = []\n",
    "        while todolist:\n",
    "            n = todolist[0]\n",
    "            for i in MazeGraph.neighbors(n):\n",
    "                if (i not in todolist) and (i not in visited): \n",
    "                    todolist.append(i)\n",
    "                    path[i] = path[n] + [n]\n",
    "                    if i == finish:\n",
    "                        path[i] += [i]\n",
    "                        break                    \n",
    "            todolist.remove(n)\n",
    "            visited.append(n)\n",
    "\n",
    "        shortest_path = path[finish]\n",
    "\n",
    "        return shortest_path #list of tuples containing indices of the points in the answer\n",
    "    \n",
    "    def MazeComponentsDFS(MazeGraph):\n",
    "        #MazeGraph is a networkx graph\n",
    "        \n",
    "        #function body  \n",
    "        lst = []\n",
    "        nodes = nx.nodes(MazeGraph)\n",
    "        components = []\n",
    "        for i in nodes:\n",
    "            if i not in lst:\n",
    "                ccomp = []\n",
    "                todolist = [i]\n",
    "                visited = []\n",
    "                while todolist:\n",
    "                    n = todolist[0]\n",
    "                    for j in MazeGraph.neighbors(n):\n",
    "                        if (j not in todolist) and (j not in visited): \n",
    "                            todolist.insert(0, j)\n",
    "                    visited.append(n)\n",
    "                    todolist.remove(n)\n",
    "                    lst.append(n)\n",
    "                ccomp.extend(visited)\n",
    "            if ccomp not in components: \n",
    "                components.append(ccomp)\n",
    "\n",
    "        return components #list of lists, each containing tuples of the indices of points in that component\n",
    "    \n",
    "    #function body\n",
    "    MazeGraph = MazeMatrix2Graph(MazeMatrix)\n",
    "    a = MazeAnswerBFS(MazeGraph, start, finish)\n",
    "    b = MazeComponentsDFS(MazeGraph)\n",
    "    print(a)\n",
    "    print('\\n')\n",
    "    print(b)\n",
    "#   a is the output of MazeAnswerBFS and b is the output of MazeComponentsDFS\n",
    "\n",
    "#DO NOT MODIFY THE FOLLOWING\n",
    "hw3bmaze=   [[1,0,1,1,0,1],\n",
    "[1,1,0,0,0,0],\n",
    "[0,1,0,1,1,1],\n",
    "[0,1,1,1,0,1],\n",
    "[1,0,0,1,1,1],\n",
    "[1,1,0,0,0,1],\n",
    "[0,0,1,1,0,1]]\n",
    "\n",
    "hw3bstart=(0,0)\n",
    "hw3bfinish=(6,5)\n",
    "maze(hw3bmaze,hw3bstart,hw3bfinish)\n",
    "    \n",
    "#output for this example should be:\n",
    "#[(0, 0), (1, 0), (1, 1), (2, 1), (3, 1), (3, 2), (3, 3), (4, 3), (4, 4), (4, 5), (5, 5), (6, 5)]\n",
    "#[[(0, 0), (1, 0), (1, 1), (2, 1), (3, 1), (3, 2), (3, 3), (4, 3), (4, 4), (4, 5), (5, 5), (6, 5), (3, 5), (2, 5), (2, 4), (2, 3)], [(0, 2), (0, 3)], [(0, 5)], [(4, 0), (5, 0), (5, 1)], [(6, 2), (6, 3)]]\n"
   ]
  },
  {
   "cell_type": "code",
   "execution_count": 51,
   "metadata": {},
   "outputs": [
    {
     "name": "stdout",
     "output_type": "stream",
     "text": [
      "[1, 0, 1, 1, 0, 1]\n",
      "[1, 1, 0, 0, 0, 0]\n",
      "[0, 1, 0, 1, 1, 1]\n",
      "[0, 1, 1, 1, 0, 1]\n",
      "[1, 0, 0, 1, 1, 1]\n",
      "[1, 1, 0, 0, 0, 1]\n",
      "[0, 0, 1, 1, 0, 1]\n"
     ]
    }
   ],
   "source": [
    "m = [[1,0,1,1,0,1],\n",
    "[1,1,0,0,0,0],\n",
    "[0,1,0,1,1,1],\n",
    "[0,1,1,1,0,1],\n",
    "[1,0,0,1,1,1],\n",
    "[1,1,0,0,0,1],\n",
    "[0,0,1,1,0,1]]\n",
    "\n",
    "for i in m:\n",
    "    print (i)"
   ]
  },
  {
   "cell_type": "code",
   "execution_count": 99,
   "metadata": {},
   "outputs": [
    {
     "data": {
      "image/png": "[encoded data removed]",
      "text/plain": [
       "<matplotlib.figure.Figure at 0x7f99edf2c588>"
      ]
     },
     "metadata": {},
     "output_type": "display_data"
    }
   ],
   "source": [
    "nx.draw(MazeGraph, with_labels=True)"
   ]
  },
  {
   "cell_type": "code",
   "execution_count": 100,
   "metadata": {},
   "outputs": [
    {
     "data": {
      "text/plain": [
       "<dict_keyiterator at 0x7f99ee03f818>"
      ]
     },
     "execution_count": 100,
     "metadata": {},
     "output_type": "execute_result"
    }
   ],
   "source": [
    "MazeGraph.neighbors((0, 0))"
   ]
  },
  {
   "cell_type": "code",
   "execution_count": 105,
   "metadata": {},
   "outputs": [
    {
     "name": "stdout",
     "output_type": "stream",
     "text": [
      "[[(0, 0), (1, 0), (1, 1), (2, 1), (3, 1), (3, 2), (3, 3), (4, 3), (4, 4), (4, 5), (5, 5), (6, 5), (3, 5), (2, 5), (2, 4), (2, 3)], [(0, 2), (0, 3)], [(0, 5)], [(4, 0), (5, 0), (5, 1)], [(6, 2), (6, 3)]]\n"
     ]
    }
   ],
   "source": [
    "def MazeComponentsDFS(MazeGraph):\n",
    "    lst = []\n",
    "    nodes = nx.nodes(MazeGraph)\n",
    "    \n",
    "    components = []\n",
    "    for i in nodes:\n",
    "        if i not in lst:\n",
    "            ccomp = []\n",
    "            todolist = [i]\n",
    "            visited = []\n",
    "            while todolist:\n",
    "                n = todolist[0]\n",
    "                for j in MazeGraph.neighbors(n):\n",
    "                    if (j not in todolist) and (j not in visited): \n",
    "                        todolist.insert(0, j)\n",
    "                visited.append(n)\n",
    "                todolist.remove(n)\n",
    "                lst.append(n)\n",
    "            ccomp.extend(visited)\n",
    "        if ccomp not in components: \n",
    "            components.append(ccomp)  \n",
    "            \n",
    "    return components\n",
    "    \n",
    "print (MazeComponentsDFS(MazeGraph))"
   ]
  },
  {
   "cell_type": "code",
   "execution_count": 125,
   "metadata": {},
   "outputs": [
    {
     "data": {
      "text/plain": [
       "[(0, 0),\n",
       " (1, 0),\n",
       " (1, 1),\n",
       " (2, 1),\n",
       " (3, 1),\n",
       " (3, 2),\n",
       " (3, 3),\n",
       " (4, 3),\n",
       " (4, 4),\n",
       " (4, 5),\n",
       " (5, 5),\n",
       " (6, 5)]"
      ]
     },
     "execution_count": 125,
     "metadata": {},
     "output_type": "execute_result"
    }
   ],
   "source": [
    "def MazeAnswerBFS(MazeGraph,start,finish):\n",
    "    #MazeGraph is a networkx graph \n",
    "    #start and finish are tuples containing the starting and finishing point indices\n",
    "\n",
    "    #function body \n",
    "    components = MazeComponentsDFS(MazeGraph)\n",
    "    \n",
    "    tree = None\n",
    "    \n",
    "    for i in components:\n",
    "        if start and finish in i: tree = i\n",
    "\n",
    "    if tree == None:\n",
    "        return []\n",
    "    \n",
    "    path = {}\n",
    "    for i in tree:\n",
    "        path[i] = []\n",
    "    \n",
    "    todolist = [start]\n",
    "    visited = []\n",
    "    while todolist:\n",
    "        n = todolist[0]\n",
    "        for i in MazeGraph.neighbors(n):\n",
    "            if (i not in todolist) and (i not in visited): \n",
    "                todolist.append(i)\n",
    "                path[i] = path[n] + [n]\n",
    "                if i == finish:\n",
    "                    path[i] += [i]\n",
    "                    break                    \n",
    "        todolist.remove(n)\n",
    "        visited.append(n)\n",
    "\n",
    "    shortest_path = path[finish]\n",
    "    \n",
    "    return shortest_path #list of tuples containing indices of the points in the answer\n",
    "\n",
    "MazeAnswerBFS(MazeGraph, (0,0), (6,5))"
   ]
  },
  {
   "cell_type": "code",
   "execution_count": 84,
   "metadata": {},
   "outputs": [
    {
     "data": {
      "text/plain": [
       "True"
      ]
     },
     "execution_count": 84,
     "metadata": {},
     "output_type": "execute_result"
    }
   ],
   "source": [
    "a = [[(0, 0), (1, 0), (1, 1), (2, 1), (3, 1), (3, 2), (3, 3), (4, 3), (4, 4), (4, 5), (5, 5), (6, 5), (3, 5), (2, 5), (2, 4), (2, 3)], [(0, 2), (0, 3)], [(0, 5)], [(4, 0), (5, 0), (5, 1)], [(6, 2), (6, 3)]]\n",
    "b = [[(0, 0), (1, 0), (1, 1), (2, 1), (3, 1), (3, 2), (3, 3), (4, 3), (4, 4), (4, 5), (5, 5), (6, 5), (3, 5), (2, 5), (2, 4), (2, 3)], [(0, 2), (0, 3)], [(0, 5)], [(4, 0), (5, 0), (5, 1)], [(6, 2), (6, 3)]]\n",
    "\n",
    "a == b"
   ]
  }
 ],
 "metadata": {
  "kernelspec": {
   "display_name": "Python 3",
   "language": "python",
   "name": "python3"
  },
  "language_info": {
   "codemirror_mode": {
    "name": "ipython",
    "version": 3
   },
   "file_extension": ".py",
   "mimetype": "text/x-python",
   "name": "python",
   "nbconvert_exporter": "python",
   "pygments_lexer": "ipython3",
   "version": "3.6.8"
  }
 },
 "nbformat": 4,
 "nbformat_minor": 2
}
